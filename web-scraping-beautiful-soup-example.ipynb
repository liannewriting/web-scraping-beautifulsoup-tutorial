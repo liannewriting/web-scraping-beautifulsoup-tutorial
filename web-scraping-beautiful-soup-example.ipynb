{
 "cells": [
  {
   "cell_type": "code",
   "execution_count": 1,
   "metadata": {},
   "outputs": [],
   "source": [
    "import requests\n",
    "from bs4 import BeautifulSoup\n",
    "import pandas as pd"
   ]
  },
  {
   "cell_type": "code",
   "execution_count": 2,
   "metadata": {},
   "outputs": [
    {
     "name": "stdout",
     "output_type": "stream",
     "text": [
      "Visited URL: https://liannewriting.github.io/scraping_example.html\n",
      "200\n"
     ]
    }
   ],
   "source": [
    "response = requests.get('https://liannewriting.github.io/scraping_example.html')\n",
    "print('Visited URL: {}'.format(response.url))\n",
    "print(response.status_code)"
   ]
  },
  {
   "cell_type": "code",
   "execution_count": 3,
   "metadata": {},
   "outputs": [
    {
     "data": {
      "text/plain": [
       "bs4.BeautifulSoup"
      ]
     },
     "execution_count": 3,
     "metadata": {},
     "output_type": "execute_result"
    }
   ],
   "source": [
    "soup = BeautifulSoup(response.text, 'html.parser')\n",
    "\n",
    "type(soup)"
   ]
  },
  {
   "cell_type": "code",
   "execution_count": 4,
   "metadata": {},
   "outputs": [
    {
     "name": "stdout",
     "output_type": "stream",
     "text": [
      "<html>\n",
      " <head>\n",
      "  <title>\n",
      "   My Example Website\n",
      "  </title>\n",
      "  <style>\n",
      "   .data-container {\n",
      "              background-color: blue;\n",
      "              color: white;\n",
      "              text-align: center;\n",
      "              margin: 10px;\n",
      "              padding: 10px;\n",
      "            }\n",
      "            \n",
      "            table {    \n",
      "              width: 75%;\n",
      "              border-collapse: collapse;\n",
      "              text-align: center;\n",
      "            }\n",
      "            td {\n",
      "              border: 1px solid black;\n",
      "            }\n",
      "  </style>\n",
      " </head>\n",
      " <body>\n",
      "  <div class=\"data-container\">\n",
      "   Apple\n",
      "  </div>\n",
      "  <div class=\"data-container\">\n",
      "   Orange\n",
      "  </div>\n",
      "  <div class=\"data-container\">\n",
      "   Peach\n",
      "  </div>\n",
      "  <div class=\"data-container\">\n",
      "   Pear\n",
      "  </div>\n",
      "  <div class=\"data-container\">\n",
      "   Avocado\n",
      "  </div>\n",
      "  <div class=\"data-container\">\n",
      "   Strawberry\n",
      "  </div>\n",
      "  <div class=\"data-container\">\n",
      "   Grape\n",
      "  </div>\n",
      "  <div class=\"data-container\">\n",
      "   Blueberry\n",
      "  </div>\n",
      "  <div class=\"data-container\">\n",
      "   Blackberry\n",
      "  </div>\n",
      "  <table id=\"data-table\">\n",
      "   <tr>\n",
      "    <th>\n",
      "     Address\n",
      "    </th>\n",
      "    <th>\n",
      "     Price\n",
      "    </th>\n",
      "   </tr>\n",
      "   <tr>\n",
      "    <td>\n",
      "     1 First St\n",
      "    </td>\n",
      "    <td>\n",
      "     100000\n",
      "    </td>\n",
      "   </tr>\n",
      "   <tr>\n",
      "    <td>\n",
      "     2 Second St\n",
      "    </td>\n",
      "    <td>\n",
      "     200000\n",
      "    </td>\n",
      "   </tr>\n",
      "   <tr>\n",
      "    <td>\n",
      "     3 Third St\n",
      "    </td>\n",
      "    <td>\n",
      "     300000\n",
      "    </td>\n",
      "   </tr>\n",
      "   <tr>\n",
      "    <td>\n",
      "     4 Fourth St\n",
      "    </td>\n",
      "    <td>\n",
      "     400000\n",
      "    </td>\n",
      "   </tr>\n",
      "   <tr>\n",
      "    <td>\n",
      "     5 Fifth St\n",
      "    </td>\n",
      "    <td>\n",
      "     500000\n",
      "    </td>\n",
      "   </tr>\n",
      "   <tr>\n",
      "    <td>\n",
      "     6 Sixth St\n",
      "    </td>\n",
      "    <td>\n",
      "     600000\n",
      "    </td>\n",
      "   </tr>\n",
      "  </table>\n",
      " </body>\n",
      "</html>\n"
     ]
    }
   ],
   "source": [
    "print(soup.prettify())"
   ]
  },
  {
   "cell_type": "markdown",
   "metadata": {},
   "source": [
    "## Scraping the data from the div tags"
   ]
  },
  {
   "cell_type": "code",
   "execution_count": 5,
   "metadata": {},
   "outputs": [
    {
     "data": {
      "text/plain": [
       "[<div class=\"data-container\">Apple</div>,\n",
       " <div class=\"data-container\">Orange</div>,\n",
       " <div class=\"data-container\">Peach</div>,\n",
       " <div class=\"data-container\">Pear</div>,\n",
       " <div class=\"data-container\">Avocado</div>,\n",
       " <div class=\"data-container\">Strawberry</div>,\n",
       " <div class=\"data-container\">Grape</div>,\n",
       " <div class=\"data-container\">Blueberry</div>,\n",
       " <div class=\"data-container\">Blackberry</div>]"
      ]
     },
     "execution_count": 5,
     "metadata": {},
     "output_type": "execute_result"
    }
   ],
   "source": [
    "data_containers = soup.find_all('div', class_='data-container')\n",
    "data_containers"
   ]
  },
  {
   "cell_type": "code",
   "execution_count": 6,
   "metadata": {},
   "outputs": [
    {
     "name": "stdout",
     "output_type": "stream",
     "text": [
      "<div class=\"data-container\">Apple</div>\n",
      "Apple\n"
     ]
    }
   ],
   "source": [
    "# To look at the first tag object\n",
    "print(data_containers[0])\n",
    "\n",
    "# To get the text attribute within the tag\n",
    "print(data_containers[0].text)"
   ]
  },
  {
   "cell_type": "code",
   "execution_count": 7,
   "metadata": {},
   "outputs": [
    {
     "name": "stdout",
     "output_type": "stream",
     "text": [
      "['Apple', 'Orange', 'Peach', 'Pear', 'Avocado', 'Strawberry', 'Grape', 'Blueberry', 'Blackberry']\n"
     ]
    }
   ],
   "source": [
    "dat = []\n",
    "for dc in data_containers:\n",
    "    fruit = dc.text\n",
    "    dat.append(fruit)\n",
    "\n",
    "print(dat)"
   ]
  },
  {
   "cell_type": "code",
   "execution_count": 8,
   "metadata": {},
   "outputs": [
    {
     "name": "stdout",
     "output_type": "stream",
     "text": [
      "   fruit_name\n",
      "0       Apple\n",
      "1      Orange\n",
      "2       Peach\n",
      "3        Pear\n",
      "4     Avocado\n",
      "5  Strawberry\n",
      "6       Grape\n",
      "7   Blueberry\n",
      "8  Blackberry\n"
     ]
    }
   ],
   "source": [
    "df_fruit = pd.DataFrame(data=dat, columns=['fruit_name'])\n",
    "print(df_fruit)"
   ]
  },
  {
   "cell_type": "markdown",
   "metadata": {},
   "source": [
    "## Scraping the data from the table"
   ]
  },
  {
   "cell_type": "code",
   "execution_count": 9,
   "metadata": {},
   "outputs": [
    {
     "name": "stdout",
     "output_type": "stream",
     "text": [
      "<table id=\"data-table\">\n",
      "<tr><th>Address</th><th>Price</th></tr>\n",
      "<tr><td>1 First St</td><td>100000</td></tr>\n",
      "<tr><td>2 Second St</td><td>200000</td></tr>\n",
      "<tr><td>3 Third St</td><td>300000</td></tr>\n",
      "<tr><td>4 Fourth St</td><td>400000</td></tr>\n",
      "<tr><td>5 Fifth St</td><td>500000</td></tr>\n",
      "<tr><td>6 Sixth St</td><td>600000</td></tr>\n",
      "</table>\n"
     ]
    }
   ],
   "source": [
    "data_table = soup.find('table', id='data-table')\n",
    "\n",
    "print(data_table)"
   ]
  },
  {
   "cell_type": "code",
   "execution_count": 10,
   "metadata": {},
   "outputs": [
    {
     "data": {
      "text/plain": [
       "[<td>1 First St</td>,\n",
       " <td>100000</td>,\n",
       " <td>2 Second St</td>,\n",
       " <td>200000</td>,\n",
       " <td>3 Third St</td>,\n",
       " <td>300000</td>,\n",
       " <td>4 Fourth St</td>,\n",
       " <td>400000</td>,\n",
       " <td>5 Fifth St</td>,\n",
       " <td>500000</td>,\n",
       " <td>6 Sixth St</td>,\n",
       " <td>600000</td>]"
      ]
     },
     "execution_count": 10,
     "metadata": {},
     "output_type": "execute_result"
    }
   ],
   "source": [
    "data_table_tds = data_table.find_all('td')\n",
    "data_table_tds"
   ]
  },
  {
   "cell_type": "code",
   "execution_count": 11,
   "metadata": {},
   "outputs": [],
   "source": [
    "addresses = []\n",
    "prices = []\n",
    "for i, td in enumerate(data_table_tds):\n",
    "    \n",
    "    if i % 2:\n",
    "        prices.append(td.text)\n",
    "    else:\n",
    "        addresses.append(td.text)"
   ]
  },
  {
   "cell_type": "code",
   "execution_count": 12,
   "metadata": {},
   "outputs": [
    {
     "name": "stdout",
     "output_type": "stream",
     "text": [
      "     addresses  prices\n",
      "0   1 First St  100000\n",
      "1  2 Second St  200000\n",
      "2   3 Third St  300000\n",
      "3  4 Fourth St  400000\n",
      "4   5 Fifth St  500000\n",
      "5   6 Sixth St  600000\n"
     ]
    }
   ],
   "source": [
    "df_prices = pd.DataFrame(data={'addresses': addresses, 'prices': prices})\n",
    "print(df_prices)"
   ]
  }
 ],
 "metadata": {
  "kernelspec": {
   "display_name": "Python 3",
   "language": "python",
   "name": "python3"
  },
  "language_info": {
   "codemirror_mode": {
    "name": "ipython",
    "version": 3
   },
   "file_extension": ".py",
   "mimetype": "text/x-python",
   "name": "python",
   "nbconvert_exporter": "python",
   "pygments_lexer": "ipython3",
   "version": "3.7.6"
  }
 },
 "nbformat": 4,
 "nbformat_minor": 4
}
